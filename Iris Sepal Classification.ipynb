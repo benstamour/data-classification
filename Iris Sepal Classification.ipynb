{
 "cells": [
  {
   "cell_type": "markdown",
   "id": "ec36ba89",
   "metadata": {},
   "source": [
    "Machine Learning Classification with the Iris Dataset\n",
    "===========================================\n",
    "\n",
    "In this project, we use three different classification methods with the scikit-learn iris dataset. With each method, we use ten-fold cross-validation and generate a confusion matrix to determine the most accurate classifier for this dataset.\n",
    "\n",
    "First we import some standard libraries, along with the scikit-learn libraries for the dataset and classifiers."
   ]
  },
  {
   "cell_type": "code",
   "execution_count": 52,
   "id": "0962a2fd",
   "metadata": {},
   "outputs": [],
   "source": [
    "import numpy as np\n",
    "import matplotlib.pyplot as plt\n",
    "import pandas as pd\n",
    "import seaborn as sb\n",
    "from sklearn import datasets, metrics, tree\n",
    "from sklearn.model_selection import KFold\n",
    "from sklearn.neighbors import KNeighborsClassifier\n",
    "from sklearn.naive_bayes import GaussianNB"
   ]
  },
  {
   "cell_type": "markdown",
   "id": "067c6dce",
   "metadata": {},
   "source": [
    "Next, we load our data. The iris dataset as categories for sepal length, sepal width, petal length, and petal length, measured in centimetres. Here, we will use sepal length and width, which are the first two columns in the data."
   ]
  },
  {
   "cell_type": "code",
   "execution_count": 53,
   "id": "ed23266f",
   "metadata": {},
   "outputs": [
    {
     "name": "stdout",
     "output_type": "stream",
     "text": [
      "ID\tSepal Length\tSepal Width\t     Class\n",
      "  0\t        5.1\t        3.5\t    setosa\n",
      "  1\t        4.9\t        3.0\t    setosa\n",
      "  2\t        4.7\t        3.2\t    setosa\n",
      "  3\t        4.6\t        3.1\t    setosa\n",
      "  4\t        5.0\t        3.6\t    setosa\n",
      "  5\t        5.4\t        3.9\t    setosa\n",
      "  6\t        4.6\t        3.4\t    setosa\n",
      "  7\t        5.0\t        3.4\t    setosa\n",
      "  8\t        4.4\t        2.9\t    setosa\n",
      "  9\t        4.9\t        3.1\t    setosa\n",
      " 10\t        5.4\t        3.7\t    setosa\n",
      " 11\t        4.8\t        3.4\t    setosa\n",
      " 12\t        4.8\t        3.0\t    setosa\n",
      " 13\t        4.3\t        3.0\t    setosa\n",
      " 14\t        5.8\t        4.0\t    setosa\n",
      " 15\t        5.7\t        4.4\t    setosa\n",
      " 16\t        5.4\t        3.9\t    setosa\n",
      " 17\t        5.1\t        3.5\t    setosa\n",
      " 18\t        5.7\t        3.8\t    setosa\n",
      " 19\t        5.1\t        3.8\t    setosa\n",
      " 20\t        5.4\t        3.4\t    setosa\n",
      " 21\t        5.1\t        3.7\t    setosa\n",
      " 22\t        4.6\t        3.6\t    setosa\n",
      " 23\t        5.1\t        3.3\t    setosa\n",
      " 24\t        4.8\t        3.4\t    setosa\n",
      " 25\t        5.0\t        3.0\t    setosa\n",
      " 26\t        5.0\t        3.4\t    setosa\n",
      " 27\t        5.2\t        3.5\t    setosa\n",
      " 28\t        5.2\t        3.4\t    setosa\n",
      " 29\t        4.7\t        3.2\t    setosa\n",
      " 30\t        4.8\t        3.1\t    setosa\n",
      " 31\t        5.4\t        3.4\t    setosa\n",
      " 32\t        5.2\t        4.1\t    setosa\n",
      " 33\t        5.5\t        4.2\t    setosa\n",
      " 34\t        4.9\t        3.1\t    setosa\n",
      " 35\t        5.0\t        3.2\t    setosa\n",
      " 36\t        5.5\t        3.5\t    setosa\n",
      " 37\t        4.9\t        3.6\t    setosa\n",
      " 38\t        4.4\t        3.0\t    setosa\n",
      " 39\t        5.1\t        3.4\t    setosa\n",
      " 40\t        5.0\t        3.5\t    setosa\n",
      " 41\t        4.5\t        2.3\t    setosa\n",
      " 42\t        4.4\t        3.2\t    setosa\n",
      " 43\t        5.0\t        3.5\t    setosa\n",
      " 44\t        5.1\t        3.8\t    setosa\n",
      " 45\t        4.8\t        3.0\t    setosa\n",
      " 46\t        5.1\t        3.8\t    setosa\n",
      " 47\t        4.6\t        3.2\t    setosa\n",
      " 48\t        5.3\t        3.7\t    setosa\n",
      " 49\t        5.0\t        3.3\t    setosa\n",
      " 50\t        7.0\t        3.2\tversicolor\n",
      " 51\t        6.4\t        3.2\tversicolor\n",
      " 52\t        6.9\t        3.1\tversicolor\n",
      " 53\t        5.5\t        2.3\tversicolor\n",
      " 54\t        6.5\t        2.8\tversicolor\n",
      " 55\t        5.7\t        2.8\tversicolor\n",
      " 56\t        6.3\t        3.3\tversicolor\n",
      " 57\t        4.9\t        2.4\tversicolor\n",
      " 58\t        6.6\t        2.9\tversicolor\n",
      " 59\t        5.2\t        2.7\tversicolor\n",
      " 60\t        5.0\t        2.0\tversicolor\n",
      " 61\t        5.9\t        3.0\tversicolor\n",
      " 62\t        6.0\t        2.2\tversicolor\n",
      " 63\t        6.1\t        2.9\tversicolor\n",
      " 64\t        5.6\t        2.9\tversicolor\n",
      " 65\t        6.7\t        3.1\tversicolor\n",
      " 66\t        5.6\t        3.0\tversicolor\n",
      " 67\t        5.8\t        2.7\tversicolor\n",
      " 68\t        6.2\t        2.2\tversicolor\n",
      " 69\t        5.6\t        2.5\tversicolor\n",
      " 70\t        5.9\t        3.2\tversicolor\n",
      " 71\t        6.1\t        2.8\tversicolor\n",
      " 72\t        6.3\t        2.5\tversicolor\n",
      " 73\t        6.1\t        2.8\tversicolor\n",
      " 74\t        6.4\t        2.9\tversicolor\n",
      " 75\t        6.6\t        3.0\tversicolor\n",
      " 76\t        6.8\t        2.8\tversicolor\n",
      " 77\t        6.7\t        3.0\tversicolor\n",
      " 78\t        6.0\t        2.9\tversicolor\n",
      " 79\t        5.7\t        2.6\tversicolor\n",
      " 80\t        5.5\t        2.4\tversicolor\n",
      " 81\t        5.5\t        2.4\tversicolor\n",
      " 82\t        5.8\t        2.7\tversicolor\n",
      " 83\t        6.0\t        2.7\tversicolor\n",
      " 84\t        5.4\t        3.0\tversicolor\n",
      " 85\t        6.0\t        3.4\tversicolor\n",
      " 86\t        6.7\t        3.1\tversicolor\n",
      " 87\t        6.3\t        2.3\tversicolor\n",
      " 88\t        5.6\t        3.0\tversicolor\n",
      " 89\t        5.5\t        2.5\tversicolor\n",
      " 90\t        5.5\t        2.6\tversicolor\n",
      " 91\t        6.1\t        3.0\tversicolor\n",
      " 92\t        5.8\t        2.6\tversicolor\n",
      " 93\t        5.0\t        2.3\tversicolor\n",
      " 94\t        5.6\t        2.7\tversicolor\n",
      " 95\t        5.7\t        3.0\tversicolor\n",
      " 96\t        5.7\t        2.9\tversicolor\n",
      " 97\t        6.2\t        2.9\tversicolor\n",
      " 98\t        5.1\t        2.5\tversicolor\n",
      " 99\t        5.7\t        2.8\tversicolor\n",
      "100\t        6.3\t        3.3\t virginica\n",
      "101\t        5.8\t        2.7\t virginica\n",
      "102\t        7.1\t        3.0\t virginica\n",
      "103\t        6.3\t        2.9\t virginica\n",
      "104\t        6.5\t        3.0\t virginica\n",
      "105\t        7.6\t        3.0\t virginica\n",
      "106\t        4.9\t        2.5\t virginica\n",
      "107\t        7.3\t        2.9\t virginica\n",
      "108\t        6.7\t        2.5\t virginica\n",
      "109\t        7.2\t        3.6\t virginica\n",
      "110\t        6.5\t        3.2\t virginica\n",
      "111\t        6.4\t        2.7\t virginica\n",
      "112\t        6.8\t        3.0\t virginica\n",
      "113\t        5.7\t        2.5\t virginica\n",
      "114\t        5.8\t        2.8\t virginica\n",
      "115\t        6.4\t        3.2\t virginica\n",
      "116\t        6.5\t        3.0\t virginica\n",
      "117\t        7.7\t        3.8\t virginica\n",
      "118\t        7.7\t        2.6\t virginica\n",
      "119\t        6.0\t        2.2\t virginica\n",
      "120\t        6.9\t        3.2\t virginica\n",
      "121\t        5.6\t        2.8\t virginica\n",
      "122\t        7.7\t        2.8\t virginica\n",
      "123\t        6.3\t        2.7\t virginica\n",
      "124\t        6.7\t        3.3\t virginica\n",
      "125\t        7.2\t        3.2\t virginica\n",
      "126\t        6.2\t        2.8\t virginica\n",
      "127\t        6.1\t        3.0\t virginica\n",
      "128\t        6.4\t        2.8\t virginica\n",
      "129\t        7.2\t        3.0\t virginica\n",
      "130\t        7.4\t        2.8\t virginica\n",
      "131\t        7.9\t        3.8\t virginica\n",
      "132\t        6.4\t        2.8\t virginica\n",
      "133\t        6.3\t        2.8\t virginica\n",
      "134\t        6.1\t        2.6\t virginica\n",
      "135\t        7.7\t        3.0\t virginica\n",
      "136\t        6.3\t        3.4\t virginica\n",
      "137\t        6.4\t        3.1\t virginica\n",
      "138\t        6.0\t        3.0\t virginica\n",
      "139\t        6.9\t        3.1\t virginica\n",
      "140\t        6.7\t        3.1\t virginica\n",
      "141\t        6.9\t        3.1\t virginica\n",
      "142\t        5.8\t        2.7\t virginica\n",
      "143\t        6.8\t        3.2\t virginica\n",
      "144\t        6.7\t        3.3\t virginica\n",
      "145\t        6.7\t        3.0\t virginica\n",
      "146\t        6.3\t        2.5\t virginica\n",
      "147\t        6.5\t        3.0\t virginica\n",
      "148\t        6.2\t        3.4\t virginica\n",
      "149\t        5.9\t        3.0\t virginica\n"
     ]
    }
   ],
   "source": [
    "# load data\n",
    "iris = datasets.load_iris()\n",
    "x = iris.data[:, 0] # sepal length\n",
    "y = iris.data[:, 1] # sepal width\n",
    "data = iris.data[:, :2]\n",
    "classes = iris.target\n",
    "\n",
    "# display data to be used\n",
    "print('ID' + '\\t' + 'Sepal Length' + '\\t' + 'Sepal Width' + '\\t' + 'Class'.rjust(10))\n",
    "for i in range(len(data)):\n",
    "    print(str(i).rjust(3) + '\\t' + str(data[i][0]).rjust(11) + '\\t' + str(data[i][1]).rjust(11) + '\\t' + str(iris.target_names[classes[i]]).rjust(10))"
   ]
  },
  {
   "cell_type": "markdown",
   "id": "c1e7a31a",
   "metadata": {},
   "source": [
    "Here, we will make a scatter plot of the data; the cyan points represent iris setosa, the magenta ones represent iris versicolor, and the yellow ones are for iris virginica."
   ]
  },
  {
   "cell_type": "code",
   "execution_count": 54,
   "id": "948b3ac0",
   "metadata": {},
   "outputs": [
    {
     "data": {
      "image/png": "[encoded data removed]",
      "text/plain": [
       "<Figure size 1000x500 with 1 Axes>"
      ]
     },
     "metadata": {},
     "output_type": "display_data"
    }
   ],
   "source": [
    "# create scatter plot of data\n",
    "x_min, x_max = x.min() - 0.5, x.max() + 0.5\n",
    "y_min, y_max = y.min() - 0.5, y.max() + 0.5\n",
    "\n",
    "plt.figure(figsize=(10,5))\n",
    "plt.clf()\n",
    "\n",
    "filled = [True, True, False]\n",
    "colours = ['c', 'm', 'y']\n",
    "markers = ['x', '+', 'o']\n",
    "\n",
    "setosa = plt.scatter(x=x[np.nonzero(classes==0)], y=y[np.nonzero(classes==0)], c=colours[0], marker=markers[0])\n",
    "versicolor = plt.scatter(x=x[np.nonzero(classes==1)], y=y[np.nonzero(classes==1)], c=colours[1], marker=markers[1])\n",
    "virginica = plt.scatter(x=x[np.nonzero(classes==2)], y=y[np.nonzero(classes==2)], edgecolors=colours[2], marker=markers[2], facecolors='none')\n",
    "\n",
    "plt.title(\"Sepal Length and Width of Irises\")\n",
    "plt.xlabel(\"Sepal Length (cm)\")\n",
    "plt.ylabel(\"Sepal Width (cm)\")\n",
    "\n",
    "plt.xlim(x_min, x_max)\n",
    "plt.ylim(y_min, y_max)\n",
    "\n",
    "plt.legend((setosa, versicolor, virginica), (\"iris setosa\", \"iris versicolor\", \"iris virginica\"),\n",
    "           loc='lower left',\n",
    "           ncol=1,\n",
    "           fontsize=8)\n",
    "\n",
    "plt.show()"
   ]
  },
  {
   "cell_type": "markdown",
   "id": "b7662c72",
   "metadata": {},
   "source": [
    "Now we can classify our data. First, we will use the *k*-nearest neighbours algorithm with ten-fold cross-validation and output the resulting confusion matrix."
   ]
  },
  {
   "cell_type": "code",
   "execution_count": 55,
   "id": "49c0432f",
   "metadata": {},
   "outputs": [
    {
     "name": "stdout",
     "output_type": "stream",
     "text": [
      "k-Nearest Neighbours:\n",
      "[[50  0  0]\n",
      " [ 0 36 14]\n",
      " [ 1 21 28]]\n",
      "Accuracy: 0.76\n"
     ]
    }
   ],
   "source": [
    "print(\"k-Nearest Neighbours:\")\n",
    "kfold = KFold(n_splits=10, shuffle=True)\n",
    "knc = KNeighborsClassifier(n_neighbors=10)\n",
    "matrix = [[0 for i in np.unique(classes)] for i in np.unique(classes)]\n",
    "for train, test in kfold.split(data): # indices of train and test data\n",
    "    datatrain, datatest = data[train], data[test]\n",
    "    classtrain, classtest = classes[train], classes[test]\n",
    "    knc.fit(datatrain, classtrain)\n",
    "    classpred = knc.predict(datatest)\n",
    "    confmat = metrics.confusion_matrix(classtest, classpred)\n",
    "    matrix += confmat\n",
    "\n",
    "# confusion matrix and accuracy stats\n",
    "print(matrix)\n",
    "correct = 0\n",
    "total = 0\n",
    "for i in range(len(matrix)):\n",
    "    for j in range(len(matrix[i])):\n",
    "        if i == j:\n",
    "            correct += matrix[i][j]\n",
    "        total += matrix[i][j]\n",
    "print(\"Accuracy:\", round(correct/total, 5))"
   ]
  },
  {
   "cell_type": "markdown",
   "id": "f6fc2cd6",
   "metadata": {},
   "source": [
    "Now we will use our second classifier, using decision trees."
   ]
  },
  {
   "cell_type": "code",
   "execution_count": 56,
   "id": "5f2a1524",
   "metadata": {},
   "outputs": [
    {
     "name": "stdout",
     "output_type": "stream",
     "text": [
      "Decision Trees:\n",
      "[[48  1  1]\n",
      " [ 2 26 22]\n",
      " [ 1 24 25]]\n",
      "Accuracy: 0.66\n"
     ]
    }
   ],
   "source": [
    "print(\"Decision Trees:\")\n",
    "kfold = KFold(n_splits=10, shuffle=True)\n",
    "dtc = tree.DecisionTreeClassifier()\n",
    "matrix = [[0 for i in np.unique(classes)] for i in np.unique(classes)]\n",
    "for train, test in kfold.split(data): # indices of train and test data\n",
    "    datatrain, datatest = data[train], data[test]\n",
    "    classtrain, classtest = classes[train], classes[test]\n",
    "    dtc.fit(datatrain, classtrain)\n",
    "    classpred = dtc.predict(datatest)\n",
    "    confmat = metrics.confusion_matrix(classtest, classpred)\n",
    "    matrix += confmat\n",
    "\n",
    "# confusion matrix and accuracy stats\n",
    "print(matrix)\n",
    "correct = 0\n",
    "total = 0\n",
    "for i in range(len(matrix)):\n",
    "    for j in range(len(matrix[i])):\n",
    "        if i == j:\n",
    "            correct += matrix[i][j]\n",
    "        total += matrix[i][j]\n",
    "print(\"Accuracy:\", round(correct/total, 5))"
   ]
  },
  {
   "cell_type": "markdown",
   "id": "3bf5205c",
   "metadata": {},
   "source": [
    "Our final classifier will be the Gaussian Naive Bayes classifier."
   ]
  },
  {
   "cell_type": "code",
   "execution_count": 57,
   "id": "e4268f4c",
   "metadata": {},
   "outputs": [
    {
     "name": "stdout",
     "output_type": "stream",
     "text": [
      "Gaussian Naive Bayes:\n",
      "[[50  0  0]\n",
      " [ 0 43  7]\n",
      " [ 0  8 42]]\n",
      "Accuracy: 0.9\n"
     ]
    }
   ],
   "source": [
    "print(\"Gaussian Naive Bayes:\")\n",
    "kfold = KFold(n_splits=10, shuffle=True)\n",
    "gnb = GaussianNB()\n",
    "matrix = [[0 for i in np.unique(classes)] for i in np.unique(classes)]\n",
    "for train, test in kfold.split(data): # indices of train and test data\n",
    "    datatrain, datatest = data[train], data[test]\n",
    "    classtrain, classtest = classes[train], classes[test]\n",
    "    gnb.fit(datatrain, classtrain)\n",
    "    classpred = dtc.predict(datatest)\n",
    "    confmat = metrics.confusion_matrix(classtest, classpred)\n",
    "    matrix += confmat\n",
    "\n",
    "# confusion matrix and accuracy stats\n",
    "print(matrix)\n",
    "correct = 0\n",
    "total = 0\n",
    "for i in range(len(matrix)):\n",
    "    for j in range(len(matrix[i])):\n",
    "        if i == j:\n",
    "            correct += matrix[i][j]\n",
    "        total += matrix[i][j]\n",
    "print(\"Accuracy:\", round(correct/total, 5))"
   ]
  },
  {
   "cell_type": "markdown",
   "id": "53034729",
   "metadata": {},
   "source": [
    "Our results yielded the following accuracies:\n",
    "\n",
    "* **_k_-Nearest Neighbours:** 0.76\n",
    "* **Decision Trees:** 0.66\n",
    "* **Gaussian Naive Bayes:** 0.9\n",
    "\n",
    "Based on this example, the Gaussian Naive Bayes classifier had the highest accuracy when classifying the iris dataset, being the only classifier which correctly classified at least 40 data points in each class, including sorting all of the points for iris setosa correctly, while the decision trees classifier had the lowest accuracy. We can also use other classifiers in a similar way to get more results and determine if there is another classifier that would yield a higher accuracy."
   ]
  }
 ],
 "metadata": {
  "kernelspec": {
   "display_name": "Python 3 (ipykernel)",
   "language": "python",
   "name": "python3"
  },
  "language_info": {
   "codemirror_mode": {
    "name": "ipython",
    "version": 3
   },
   "file_extension": ".py",
   "mimetype": "text/x-python",
   "name": "python",
   "nbconvert_exporter": "python",
   "pygments_lexer": "ipython3",
   "version": "3.9.13"
  }
 },
 "nbformat": 4,
 "nbformat_minor": 5
}
